{
 "cells": [
  {
   "cell_type": "code",
   "execution_count": 1,
   "id": "857b892c",
   "metadata": {},
   "outputs": [],
   "source": [
    "import numpy as np\n",
    "import pandas as pd\n",
    "import tensorflow as tf\n",
    "from tensorflow.keras import layers\n",
    "from matplotlib import pyplot as plt\n",
    "\n",
    "# The following lines adjust the granularity of reporting. \n",
    "pd.options.display.max_rows = 10\n",
    "pd.options.display.float_format = \"{:.1f}\".format\n",
    "\n",
    "# The following line improves formatting when ouputting NumPy arrays.\n",
    "np.set_printoptions(linewidth = 200)"
   ]
  },
  {
   "cell_type": "code",
   "execution_count": 2,
   "id": "4481c577",
   "metadata": {},
   "outputs": [],
   "source": [
    "(x_train, y_train),(x_test, y_test) = tf.keras.datasets.mnist.load_data()\n"
   ]
  },
  {
   "cell_type": "code",
   "execution_count": 3,
   "id": "a935e7eb",
   "metadata": {},
   "outputs": [
    {
     "data": {
      "text/plain": [
       "array([[  0,   0,   0,   0,   0,   0,   0,   0,   0,   0,   0,   0,   0,   0,   0,   0,   0,   0,   0,   0,   0,   0,   0,   0,   0,   0,   0,   0],\n",
       "       [  0,   0,   0,   0,   0,   0,   0,   0,   0,   0,   0,   0,   0,   0,   0,   0,   0,   0,   0,   0,   0,   0,   0,   0,   0,   0,   0,   0],\n",
       "       [  0,   0,   0,   0,   0,   0,   0,   0,   0,   0,   0,   0,   0,   0,   0,   0,   0,   0,   0,   0,   0,   0,   0,   0,   0,   0,   0,   0],\n",
       "       [  0,   0,   0,   0,   0,   0,   0,   0,   0,   0,   0,   0,   0,   0,   0,   0,   0,   0,   0,   0,   0,   0,   0,   0,   0,   0,   0,   0],\n",
       "       [  0,   0,   0,   0,   0,   0,   0,   0,   0,   0,   0,   0,   0,   0,   0,   0,   0,   0,   0,   0,   0,   0,   0,   0,   0,   0,   0,   0],\n",
       "       [  0,   0,   0,   0,   0,   0,   0,   0,   0,   0,   0,   0,   0,   0,   0,   0,   0,   0,   0,   0,   0,   0,   0,   0,   0,   0,   0,   0],\n",
       "       [  0,   0,   0,   0,   0,   0,   0,   0,   0,   0,   0,   0,   0,  25,  91, 174, 254, 254, 255, 254, 156,  27,   0,   0,   0,   0,   0,   0],\n",
       "       [  0,   0,   0,   0,   0,   0,   0,   0,   0,   0,   0,   9,  84, 212, 254, 254, 224, 216, 216, 219, 254, 103,   0,   0,   0,   0,   0,   0],\n",
       "       [  0,   0,   0,   0,   0,   0,   0,   0,   0,   0,  39, 172, 254, 250, 161,  56,  13,   0,   0,  58, 254, 176,   0,   0,   0,   0,   0,   0],\n",
       "       [  0,   0,   0,   0,   0,   0,   0,   0,   0,  69, 229, 254, 217,  78,   0,   0,   0,   0,   0, 176, 254, 107,   0,   0,   0,   0,   0,   0],\n",
       "       [  0,   0,   0,   0,   0,   0,   0,   0,  44, 233, 254, 131,  10,   0,   0,   0,   0,   0,   0, 207, 206,   4,   0,   0,   0,   0,   0,   0],\n",
       "       [  0,   0,   0,   0,   0,   0,   0,   0, 183, 254, 184,   2,   0,   0,   0,   0,   0,   0,   0, 165, 238, 127,   0,   0,   0,   0,   0,   0],\n",
       "       [  0,   0,   0,   0,   0,   0,   0,  85, 248, 247,  78,   0,   0,   0,   0,   0,   0,   0,   0, 144, 254, 197,   0,   0,   0,   0,   0,   0],\n",
       "       [  0,   0,   0,   0,   0,   0,   3, 188, 254, 123,   0,   0,   0,   0,   0,   0,   0,   0, 102, 252, 254,  86,   0,   0,   0,   0,   0,   0],\n",
       "       [  0,   0,   0,   0,   0,   0, 135, 254, 168,   7,   0,   0,   0,   0,   0,   0,   0,   9, 189, 254, 181,   2,   0,   0,   0,   0,   0,   0],\n",
       "       [  0,   0,   0,   0,   0,   0, 198, 254,  78,   0,   0,   0,   0,   0,   0,   0,   4, 177, 254, 254, 169,   0,   0,   0,   0,   0,   0,   0],\n",
       "       [  0,   0,   0,   0,   0,  24, 234, 254,  19,   0,   0,   0,   0,   0,   0,  10, 178, 254, 255, 254, 145,   0,   0,   0,   0,   0,   0,   0],\n",
       "       [  0,   0,   0,   0,   0,  19, 225, 254, 124,  21,   0,   0,   5,  38, 132, 220, 252, 153, 244, 251,  64,   0,   0,   0,   0,   0,   0,   0],\n",
       "       [  0,   0,   0,   0,   0,   0, 121, 250, 254, 229, 198, 198, 204, 254, 254, 245,  96,  35, 243, 196,   0,   0,   0,   0,   0,   0,   0,   0],\n",
       "       [  0,   0,   0,   0,   0,   0,   0,  85, 220, 254, 254, 254, 189, 143,  85,  10,   0, 169, 254, 140,   0,   0,   0,   0,   0,   0,   0,   0],\n",
       "       [  0,   0,   0,   0,   0,   0,   0,   0,  11,  18,  18,  18,   3,   0,   0,   0,   6, 216, 254,  53,   0,   0,   0,   0,   0,   0,   0,   0],\n",
       "       [  0,   0,   0,   0,   0,   0,   0,   0,   0,   0,   0,   0,   0,   0,   0,   0,  87, 254, 215,   9,   0,   0,   0,   0,   0,   0,   0,   0],\n",
       "       [  0,   0,   0,   0,   0,   0,   0,   0,   0,   0,   0,   0,   0,   0,   0,   0, 170, 254, 140,   0,   0,   0,   0,   0,   0,   0,   0,   0],\n",
       "       [  0,   0,   0,   0,   0,   0,   0,   0,   0,   0,   0,   0,   0,   0,   0,   0, 198, 254, 113,   0,   0,   0,   0,   0,   0,   0,   0,   0],\n",
       "       [  0,   0,   0,   0,   0,   0,   0,   0,   0,   0,   0,   0,   0,   0,   0,   0, 198, 254, 113,   0,   0,   0,   0,   0,   0,   0,   0,   0],\n",
       "       [  0,   0,   0,   0,   0,   0,   0,   0,   0,   0,   0,   0,   0,   0,   0,   0, 198, 254, 113,   0,   0,   0,   0,   0,   0,   0,   0,   0],\n",
       "       [  0,   0,   0,   0,   0,   0,   0,   0,   0,   0,   0,   0,   0,   0,   0,   0,   0,   0,   0,   0,   0,   0,   0,   0,   0,   0,   0,   0],\n",
       "       [  0,   0,   0,   0,   0,   0,   0,   0,   0,   0,   0,   0,   0,   0,   0,   0,   0,   0,   0,   0,   0,   0,   0,   0,   0,   0,   0,   0]], dtype=uint8)"
      ]
     },
     "execution_count": 3,
     "metadata": {},
     "output_type": "execute_result"
    }
   ],
   "source": [
    "#Notice that mnist.load_data() returned four separate values:\n",
    "\n",
    "#x_train contains the training set's features.\n",
    "#y_train contains the training set's labels.\n",
    "#x_test contains the test set's features.\n",
    "#y_test contains the test set's labels.\n",
    "#Note: The MNIST .csv training set is already shuffled.\n",
    "\n",
    "#View the dataset\n",
    "#The .csv file for the California Housing Dataset contains column names\n",
    "#(for example, latitude, longitude, population). By contrast, the .csv file for MNIST does\n",
    "#not contain column names. Instead of column names, you use ordinal numbers to access different\n",
    "#subsets of the MNIST dataset. In fact, it is probably best to \n",
    "#think of x_train and x_test as two-dimensional NumPy arrays:\n",
    "\n",
    "x_train[3000]"
   ]
  },
  {
   "cell_type": "code",
   "execution_count": 3,
   "id": "bc5800ed",
   "metadata": {},
   "outputs": [
    {
     "data": {
      "text/plain": [
       "<matplotlib.image.AxesImage at 0x1858afd1ec8>"
      ]
     },
     "execution_count": 3,
     "metadata": {},
     "output_type": "execute_result"
    },
    {
     "data": {
      "image/png": "[encoded data removed]",
      "text/plain": [
       "<Figure size 640x480 with 1 Axes>"
      ]
     },
     "metadata": {},
     "output_type": "display_data"
    }
   ],
   "source": [
    "# Use false colors to visualize the array.\n",
    "\n",
    "plt.imshow(x_train[3000])"
   ]
  },
  {
   "cell_type": "code",
   "execution_count": 7,
   "id": "c133e298",
   "metadata": {},
   "outputs": [
    {
     "data": {
      "text/plain": [
       "array([  0,   0,   0,   0,   0,   0,   0,   0,  44, 233, 254, 131,  10,   0,   0,   0,   0,   0,   0, 207, 206,   4,   0,   0,   0,   0,   0,   0], dtype=uint8)"
      ]
     },
     "execution_count": 7,
     "metadata": {},
     "output_type": "execute_result"
    }
   ],
   "source": [
    "x_train[3000][10]"
   ]
  },
  {
   "cell_type": "code",
   "execution_count": 4,
   "id": "fb44f9a7",
   "metadata": {},
   "outputs": [
    {
     "data": {
      "text/plain": [
       "254"
      ]
     },
     "execution_count": 4,
     "metadata": {},
     "output_type": "execute_result"
    }
   ],
   "source": [
    " \n",
    "x_train[3000][10][10]"
   ]
  },
  {
   "cell_type": "code",
   "execution_count": 5,
   "id": "6ba1955a",
   "metadata": {},
   "outputs": [
    {
     "name": "stdout",
     "output_type": "stream",
     "text": [
      "0.996078431372549\n"
     ]
    }
   ],
   "source": [
    "x_train_normalized = x_train / 255.0\n",
    "x_test_normalized = x_test / 255.0\n",
    "print(x_train_normalized[3000][10][10])"
   ]
  },
  {
   "cell_type": "code",
   "execution_count": 18,
   "id": "c8840e7e",
   "metadata": {},
   "outputs": [
    {
     "name": "stdout",
     "output_type": "stream",
     "text": [
      "Loaded the plot_curve function.\n"
     ]
    }
   ],
   "source": [
    "def plot_the_curve(epochs, hist, list_of_metrics):\n",
    "    plt.figure()\n",
    "    plt.xlabel(\"epoch\")\n",
    "    plt.ylabel(\"value\")\n",
    "    \n",
    "    for m in list_of_metrics:\n",
    "        x = hist[m]\n",
    "        plt.plot(epochs[1:], x[1:], label=m)\n",
    "        \n",
    "    plt.legend()\n",
    "    \n",
    "print(\"Loaded the plot_curve function.\")\n",
    "        "
   ]
  },
  {
   "cell_type": "code",
   "execution_count": null,
   "id": "eda232b1",
   "metadata": {},
   "outputs": [],
   "source": [
    "#The create_model function defines the topography of the deep neural net, specifying the following:\n",
    "\n",
    "#The number of layers in the deep neural net.\n",
    "#The number of nodes in each layer.\n",
    "#Any regularization layers.\n",
    "#The create_model function also defines the activation function of each layer. The activation function of the output layer is softmax, which will yield 10 different outputs for each example. Each of the 10 outputs provides the probability that the input example is a certain digit.\n",
    "\n",
    "#Note: Unlike several of the recent Colabs, this exercise does not define feature columns or a feature layer. \n",
    "#Instead, the model will train on the NumPy array."
   ]
  },
  {
   "cell_type": "code",
   "execution_count": 19,
   "id": "1ddbdc66",
   "metadata": {},
   "outputs": [],
   "source": [
    "def create_model(my_learning_rate):\n",
    "    model = tf.keras.models.Sequential()\n",
    "      # The features are stored in a two-dimensional 28X28 array. \n",
    "      # Flatten that two-dimensional array into a one-dimensional \n",
    "      # 784-element array.\n",
    "    model.add(tf.keras.layers.Flatten(input_shape=(28,28)))\n",
    "      # Define the first hidden layer.   \n",
    "    model.add(tf.keras.layers.Dense(units=32, activation=\"relu\"))\n",
    "      # Define a dropout regularization layer. \n",
    "    model.add(tf.keras.layers.Dropout(rate=0.2))\n",
    "        # Define the output layer. The units parameter is set to 10 because\n",
    "      # the model must choose among 10 possible output values (representing\n",
    "      # the digits from 0 to 9, inclusive).\n",
    "  \n",
    "      # Don't change this layer.\n",
    "    model.add(tf.keras.layers.Dense(units=10, activation=\"softmax\"))\n",
    "    \n",
    "     #Construct the layers into a model that TensorFlow can execute.  \n",
    "      # Notice that the loss function for multi-class classification\n",
    "      # is different than the loss function for binary classification. \n",
    "    model.compile(optimizer=tf.keras.optimizers.Adam(learning_rate=my_learning_rate), \n",
    "                  loss=\"sparse_categorical_crossentropy\", metrics=[\"accuracy\"])\n",
    "    \n",
    "    return model\n",
    "    "
   ]
  },
  {
   "cell_type": "code",
   "execution_count": 22,
   "id": "95aa8b61",
   "metadata": {},
   "outputs": [],
   "source": [
    "def train_model(model, train_features, train_label, epochs, batch_size=None, validation_split=0.1):\n",
    "    \n",
    "    history = model.fit(x = train_features, y=train_label, batch_size=batch_size, epochs=epochs, \n",
    "                        validation_split=validation_split, shuffle=True)\n",
    "    epochs = history.epoch\n",
    "    hist = pd.DataFrame(history.history)\n",
    "    return epochs, hist\n",
    "    \n",
    "    "
   ]
  },
  {
   "cell_type": "code",
   "execution_count": 24,
   "id": "5117fa30",
   "metadata": {},
   "outputs": [
    {
     "name": "stdout",
     "output_type": "stream",
     "text": [
      "Epoch 1/50\n",
      "12/12 [==============================] - 64s 82ms/step - loss: 1.6619 - accuracy: 0.4789 - val_loss: 0.8849 - val_accuracy: 0.8107\n",
      "Epoch 2/50\n",
      "12/12 [==============================] - 0s 40ms/step - loss: 0.8351 - accuracy: 0.7457 - val_loss: 0.5098 - val_accuracy: 0.8662\n",
      "Epoch 3/50\n",
      "12/12 [==============================] - 0s 38ms/step - loss: 0.6069 - accuracy: 0.8131 - val_loss: 0.4129 - val_accuracy: 0.8892\n",
      "Epoch 4/50\n",
      "12/12 [==============================] - 0s 40ms/step - loss: 0.5087 - accuracy: 0.8482 - val_loss: 0.3607 - val_accuracy: 0.9025\n",
      "Epoch 5/50\n",
      "12/12 [==============================] - 0s 37ms/step - loss: 0.4602 - accuracy: 0.8629 - val_loss: 0.3250 - val_accuracy: 0.9103\n",
      "Epoch 6/50\n",
      "12/12 [==============================] - 0s 40ms/step - loss: 0.4263 - accuracy: 0.8754 - val_loss: 0.3033 - val_accuracy: 0.9171\n",
      "Epoch 7/50\n",
      "12/12 [==============================] - 0s 37ms/step - loss: 0.3987 - accuracy: 0.8846 - val_loss: 0.2846 - val_accuracy: 0.9219\n",
      "Epoch 8/50\n",
      "12/12 [==============================] - 0s 40ms/step - loss: 0.3794 - accuracy: 0.8891 - val_loss: 0.2706 - val_accuracy: 0.9256\n",
      "Epoch 9/50\n",
      "12/12 [==============================] - 1s 45ms/step - loss: 0.3584 - accuracy: 0.8956 - val_loss: 0.2575 - val_accuracy: 0.9279\n",
      "Epoch 10/50\n",
      "12/12 [==============================] - 1s 54ms/step - loss: 0.3468 - accuracy: 0.8997 - val_loss: 0.2474 - val_accuracy: 0.9308\n",
      "Epoch 11/50\n",
      "12/12 [==============================] - 0s 40ms/step - loss: 0.3350 - accuracy: 0.9027 - val_loss: 0.2380 - val_accuracy: 0.9319\n",
      "Epoch 12/50\n",
      "12/12 [==============================] - 0s 41ms/step - loss: 0.3227 - accuracy: 0.9065 - val_loss: 0.2302 - val_accuracy: 0.9347\n",
      "Epoch 13/50\n",
      "12/12 [==============================] - 0s 41ms/step - loss: 0.3137 - accuracy: 0.9081 - val_loss: 0.2232 - val_accuracy: 0.9367\n",
      "Epoch 14/50\n",
      "12/12 [==============================] - 1s 42ms/step - loss: 0.3034 - accuracy: 0.9103 - val_loss: 0.2165 - val_accuracy: 0.9382\n",
      "Epoch 15/50\n",
      "12/12 [==============================] - 0s 41ms/step - loss: 0.2967 - accuracy: 0.9125 - val_loss: 0.2121 - val_accuracy: 0.9399\n",
      "Epoch 16/50\n",
      "12/12 [==============================] - 1s 51ms/step - loss: 0.2898 - accuracy: 0.9143 - val_loss: 0.2057 - val_accuracy: 0.9406\n",
      "Epoch 17/50\n",
      "12/12 [==============================] - 1s 44ms/step - loss: 0.2823 - accuracy: 0.9191 - val_loss: 0.2015 - val_accuracy: 0.9427\n",
      "Epoch 18/50\n",
      "12/12 [==============================] - 1s 42ms/step - loss: 0.2756 - accuracy: 0.9193 - val_loss: 0.1973 - val_accuracy: 0.9441\n",
      "Epoch 19/50\n",
      "12/12 [==============================] - 0s 38ms/step - loss: 0.2719 - accuracy: 0.9202 - val_loss: 0.1919 - val_accuracy: 0.9457\n",
      "Epoch 20/50\n",
      "12/12 [==============================] - 1s 50ms/step - loss: 0.2656 - accuracy: 0.9209 - val_loss: 0.1885 - val_accuracy: 0.9457\n",
      "Epoch 21/50\n",
      "12/12 [==============================] - 1s 42ms/step - loss: 0.2628 - accuracy: 0.9225 - val_loss: 0.1848 - val_accuracy: 0.9480\n",
      "Epoch 22/50\n",
      "12/12 [==============================] - 1s 42ms/step - loss: 0.2553 - accuracy: 0.9256 - val_loss: 0.1828 - val_accuracy: 0.9468\n",
      "Epoch 23/50\n",
      "12/12 [==============================] - 0s 39ms/step - loss: 0.2512 - accuracy: 0.9264 - val_loss: 0.1798 - val_accuracy: 0.9495\n",
      "Epoch 24/50\n",
      "12/12 [==============================] - 0s 39ms/step - loss: 0.2451 - accuracy: 0.9265 - val_loss: 0.1767 - val_accuracy: 0.9492\n",
      "Epoch 25/50\n",
      "12/12 [==============================] - 0s 39ms/step - loss: 0.2454 - accuracy: 0.9271 - val_loss: 0.1733 - val_accuracy: 0.9507\n",
      "Epoch 26/50\n",
      "12/12 [==============================] - 1s 43ms/step - loss: 0.2385 - accuracy: 0.9300 - val_loss: 0.1715 - val_accuracy: 0.9506\n",
      "Epoch 27/50\n",
      "12/12 [==============================] - 1s 42ms/step - loss: 0.2368 - accuracy: 0.9305 - val_loss: 0.1698 - val_accuracy: 0.9514\n",
      "Epoch 28/50\n",
      "12/12 [==============================] - 0s 39ms/step - loss: 0.2330 - accuracy: 0.9320 - val_loss: 0.1667 - val_accuracy: 0.9507\n",
      "Epoch 29/50\n",
      "12/12 [==============================] - 0s 38ms/step - loss: 0.2309 - accuracy: 0.9305 - val_loss: 0.1653 - val_accuracy: 0.9526\n",
      "Epoch 30/50\n",
      "12/12 [==============================] - 0s 39ms/step - loss: 0.2293 - accuracy: 0.9309 - val_loss: 0.1637 - val_accuracy: 0.9524\n",
      "Epoch 31/50\n",
      "12/12 [==============================] - 0s 39ms/step - loss: 0.2266 - accuracy: 0.9319 - val_loss: 0.1619 - val_accuracy: 0.9528\n",
      "Epoch 32/50\n",
      "12/12 [==============================] - 1s 42ms/step - loss: 0.2219 - accuracy: 0.9342 - val_loss: 0.1601 - val_accuracy: 0.9528\n",
      "Epoch 33/50\n",
      "12/12 [==============================] - 1s 51ms/step - loss: 0.2211 - accuracy: 0.9335 - val_loss: 0.1592 - val_accuracy: 0.9534\n",
      "Epoch 34/50\n",
      "12/12 [==============================] - 0s 40ms/step - loss: 0.2183 - accuracy: 0.9344 - val_loss: 0.1579 - val_accuracy: 0.9534\n",
      "Epoch 35/50\n",
      "12/12 [==============================] - 1s 43ms/step - loss: 0.2159 - accuracy: 0.9347 - val_loss: 0.1564 - val_accuracy: 0.9543\n",
      "Epoch 36/50\n",
      "12/12 [==============================] - 1s 42ms/step - loss: 0.2151 - accuracy: 0.9340 - val_loss: 0.1544 - val_accuracy: 0.9552\n",
      "Epoch 37/50\n",
      "12/12 [==============================] - 1s 44ms/step - loss: 0.2128 - accuracy: 0.9361 - val_loss: 0.1533 - val_accuracy: 0.9565\n",
      "Epoch 38/50\n",
      "12/12 [==============================] - 1s 48ms/step - loss: 0.2079 - accuracy: 0.9371 - val_loss: 0.1524 - val_accuracy: 0.9567\n",
      "Epoch 39/50\n",
      "12/12 [==============================] - 1s 46ms/step - loss: 0.2078 - accuracy: 0.9373 - val_loss: 0.1517 - val_accuracy: 0.9567\n",
      "Epoch 40/50\n",
      "12/12 [==============================] - 1s 44ms/step - loss: 0.2032 - accuracy: 0.9385 - val_loss: 0.1506 - val_accuracy: 0.9571\n",
      "Epoch 41/50\n",
      "12/12 [==============================] - 0s 41ms/step - loss: 0.2027 - accuracy: 0.9394 - val_loss: 0.1496 - val_accuracy: 0.9566\n",
      "Epoch 42/50\n",
      "12/12 [==============================] - 0s 40ms/step - loss: 0.2009 - accuracy: 0.9396 - val_loss: 0.1489 - val_accuracy: 0.9566\n",
      "Epoch 43/50\n",
      "12/12 [==============================] - 1s 46ms/step - loss: 0.2013 - accuracy: 0.9389 - val_loss: 0.1475 - val_accuracy: 0.9567\n",
      "Epoch 44/50\n",
      "12/12 [==============================] - 1s 47ms/step - loss: 0.1992 - accuracy: 0.9395 - val_loss: 0.1471 - val_accuracy: 0.9573\n",
      "Epoch 45/50\n",
      "12/12 [==============================] - 0s 42ms/step - loss: 0.1938 - accuracy: 0.9409 - val_loss: 0.1462 - val_accuracy: 0.9570\n",
      "Epoch 46/50\n",
      "12/12 [==============================] - 0s 40ms/step - loss: 0.1949 - accuracy: 0.9407 - val_loss: 0.1465 - val_accuracy: 0.9577\n",
      "Epoch 47/50\n",
      "12/12 [==============================] - 1s 44ms/step - loss: 0.1940 - accuracy: 0.9404 - val_loss: 0.1450 - val_accuracy: 0.9582\n",
      "Epoch 48/50\n",
      "12/12 [==============================] - 1s 47ms/step - loss: 0.1910 - accuracy: 0.9415 - val_loss: 0.1447 - val_accuracy: 0.9585\n",
      "Epoch 49/50\n",
      "12/12 [==============================] - 1s 44ms/step - loss: 0.1902 - accuracy: 0.9413 - val_loss: 0.1439 - val_accuracy: 0.9588\n",
      "Epoch 50/50\n",
      "12/12 [==============================] - 0s 41ms/step - loss: 0.1866 - accuracy: 0.9423 - val_loss: 0.1436 - val_accuracy: 0.9576\n",
      "\n",
      " Evaluate the new model against the test set:\n",
      "3/3 [==============================] - 2s 60ms/step - loss: 0.1453 - accuracy: 0.9576\n"
     ]
    },
    {
     "data": {
      "text/plain": [
       "[0.14531956613063812, 0.9575999975204468]"
      ]
     },
     "execution_count": 24,
     "metadata": {},
     "output_type": "execute_result"
    },
    {
     "data": {
      "image/png": "[encoded data removed]",
      "text/plain": [
       "<Figure size 640x480 with 1 Axes>"
      ]
     },
     "metadata": {},
     "output_type": "display_data"
    }
   ],
   "source": [
    "learning_rate = 0.003\n",
    "epochs = 50\n",
    "batch_size = 4000\n",
    "validation_split = 0.2\n",
    "\n",
    "# Establish the model's topography.\n",
    "my_model = create_model(learning_rate)\n",
    "\n",
    "# Train the model on the normalized training set.\n",
    "epochs, hist = train_model(my_model, x_train_normalized, y_train, \n",
    "                           epochs, batch_size, validation_split)\n",
    "\n",
    "# Plot a graph of the metric vs. epochs.\n",
    "list_of_metrics_to_plot = ['accuracy']\n",
    "plot_the_curve(epochs, hist, list_of_metrics_to_plot)\n",
    "\n",
    "# Evaluate against the test set.\n",
    "print(\"\\n Evaluate the new model against the test set:\")\n",
    "my_model.evaluate(x=x_test_normalized, y=y_test, batch_size=batch_size)"
   ]
  },
  {
   "cell_type": "code",
   "execution_count": null,
   "id": "7ec1b8f6",
   "metadata": {},
   "outputs": [],
   "source": []
  }
 ],
 "metadata": {
  "kernelspec": {
   "display_name": "Python 3 (ipykernel)",
   "language": "python",
   "name": "python3"
  },
  "language_info": {
   "codemirror_mode": {
    "name": "ipython",
    "version": 3
   },
   "file_extension": ".py",
   "mimetype": "text/x-python",
   "name": "python",
   "nbconvert_exporter": "python",
   "pygments_lexer": "ipython3",
   "version": "3.7.16"
  }
 },
 "nbformat": 4,
 "nbformat_minor": 5
}
